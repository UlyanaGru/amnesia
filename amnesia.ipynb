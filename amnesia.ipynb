{
 "cells": [
  {
   "cell_type": "code",
   "execution_count": null,
   "id": "6952b73b",
   "metadata": {},
   "outputs": [],
   "source": [
    "def main():\n",
    "    data = input().split()\n",
    "    N = int(data[0])\n",
    "    k = int(data[1])  #не используется, т.к. вероятность одинакова для всех k\n",
    "    probability = 1.0 / N\n",
    "    print(probability)"
   ]
  }
 ],
 "metadata": {
  "language_info": {
   "name": "python"
  }
 },
 "nbformat": 4,
 "nbformat_minor": 5
}
